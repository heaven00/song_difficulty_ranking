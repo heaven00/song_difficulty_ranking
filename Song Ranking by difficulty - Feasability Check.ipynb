{
 "cells": [
  {
   "cell_type": "markdown",
   "metadata": {},
   "source": [
    "### Description\n",
    "\n",
    "The sample is only 3 song lyrics, which I picked up from \n",
    "    \n",
    "    - Avenir http://www.azlyrics.com/lyrics/louane/avenir.html\n",
    "    - Andalouse http://www.metrolyrics.com/andalouse-lyrics-kendji-girac.html\n",
    "    - Le Chant Des Sirenes http://www.metrolyrics.com/le-chant-des-sirenes-lyrics-frero-delavega.html\n",
    "\n",
    "I am trying to see if its possible to rank songs by how difficult it is to understand the lyrics."
   ]
  },
  {
   "cell_type": "code",
   "execution_count": 186,
   "metadata": {
    "collapsed": true
   },
   "outputs": [],
   "source": [
    "import pandas as pd\n",
    "import os\n",
    "import seaborn as sns\n",
    "import matplotlib.pyplot as plt\n",
    "from collections import Counter\n",
    "\n",
    "%matplotlib inline"
   ]
  },
  {
   "cell_type": "code",
   "execution_count": 187,
   "metadata": {
    "collapsed": false
   },
   "outputs": [],
   "source": [
    "def get_lyrics_df(target_dir='data'):\n",
    "    \"\"\"Read the text files in the target directory and return a dataframe with song name and lyrics mapping.\"\"\"\n",
    "    lyrics_mapping = {'song_name': [], 'lyrics': []}\n",
    "    for filename in os.listdir(target_dir):\n",
    "        lyrics = open(os.path.join(target_dir, filename),'r').read()\n",
    "        lyrics_mapping['song_name'].append(filename.split('.')[0])\n",
    "        lyrics_mapping['lyrics'].append(lyrics)\n",
    "    return pd.DataFrame(lyrics_mapping).set_index('song_name')"
   ]
  },
  {
   "cell_type": "code",
   "execution_count": 188,
   "metadata": {
    "collapsed": false
   },
   "outputs": [
    {
     "data": {
      "text/html": [
       "<div>\n",
       "<table border=\"1\" class=\"dataframe\">\n",
       "  <thead>\n",
       "    <tr style=\"text-align: right;\">\n",
       "      <th></th>\n",
       "      <th>lyrics</th>\n",
       "    </tr>\n",
       "    <tr>\n",
       "      <th>song_name</th>\n",
       "      <th></th>\n",
       "    </tr>\n",
       "  </thead>\n",
       "  <tbody>\n",
       "    <tr>\n",
       "      <th>le_chant_des_sirenes</th>\n",
       "      <td>Enfants des parcs, gamins des plages\\nLe vent ...</td>\n",
       "    </tr>\n",
       "    <tr>\n",
       "      <th>andalouse</th>\n",
       "      <td>Tu viens le soir, danser sur des airs de guita...</td>\n",
       "    </tr>\n",
       "    <tr>\n",
       "      <th>avenir</th>\n",
       "      <td>Parti loin derrière, sans trop de raison\\nTu m...</td>\n",
       "    </tr>\n",
       "  </tbody>\n",
       "</table>\n",
       "</div>"
      ],
      "text/plain": [
       "                                                                 lyrics\n",
       "song_name                                                              \n",
       "le_chant_des_sirenes  Enfants des parcs, gamins des plages\\nLe vent ...\n",
       "andalouse             Tu viens le soir, danser sur des airs de guita...\n",
       "avenir                Parti loin derrière, sans trop de raison\\nTu m..."
      ]
     },
     "execution_count": 188,
     "metadata": {},
     "output_type": "execute_result"
    }
   ],
   "source": [
    "lyrics = get_lyrics_df()\n",
    "lyrics.head()"
   ]
  },
  {
   "cell_type": "code",
   "execution_count": 189,
   "metadata": {
    "collapsed": false
   },
   "outputs": [
    {
     "data": {
      "text/plain": [
       "<matplotlib.axes._subplots.AxesSubplot at 0x7fd241ff30f0>"
      ]
     },
     "execution_count": 189,
     "metadata": {},
     "output_type": "execute_result"
    },
    {
     "data": {
      "image/png": "[encoded data removed]",
      "text/plain": [
       "<matplotlib.figure.Figure at 0x7fd241f751d0>"
      ]
     },
     "metadata": {},
     "output_type": "display_data"
    }
   ],
   "source": [
    "# Check the number of unique words that a person should know or have intuition of\n",
    "lyrics['unique_words'] = lyrics.lyrics.apply(lambda x: len(set(x.split())))\n",
    "sns.barplot(x=lyrics.unique_words,  y=lyrics.index)"
   ]
  },
  {
   "cell_type": "code",
   "execution_count": 190,
   "metadata": {
    "collapsed": false
   },
   "outputs": [],
   "source": [
    "# Some Cleaning, remove sentences with 2 unique word to remove repetitive words representing sound\n",
    "def clean_lyrics(lyrics_string):\n",
    "    \"\"\"Remove sentences with repetitve words.\"\"\"\n",
    "    sentences = lyrics_string.split('\\n')\n",
    "    return '\\n'.join([sentence for sentence in sentences if len(set(sentence.split())) > 2])\n",
    "\n",
    "lyrics['processed_lyrics'] = lyrics.lyrics.apply(clean_lyrics)"
   ]
  },
  {
   "cell_type": "code",
   "execution_count": 191,
   "metadata": {
    "collapsed": false
   },
   "outputs": [
    {
     "data": {
      "text/plain": [
       "<matplotlib.axes._subplots.AxesSubplot at 0x7fd241ee5b38>"
      ]
     },
     "execution_count": 191,
     "metadata": {},
     "output_type": "execute_result"
    },
    {
     "data": {
      "image/png": "[encoded data removed]",
      "text/plain": [
       "<matplotlib.figure.Figure at 0x7fd241f06080>"
      ]
     },
     "metadata": {},
     "output_type": "display_data"
    }
   ],
   "source": [
    "# Change in unique word count by cleaning the lyrics\n",
    "lyrics['processed_unique_words'] = lyrics.processed_lyrics.apply(lambda x: len(set(x.split())))\n",
    "sns.barplot(x=lyrics.processed_unique_words,  y=lyrics.index)"
   ]
  },
  {
   "cell_type": "markdown",
   "metadata": {},
   "source": [
    "The more the number of unique words the more the difficult will be the song, assuming that each word is equally difficult to cramp up in memory (a bad assumption, but works for basic analysis.)\n",
    "\n",
    "Thus comparatively,\n",
    "\n",
    "        1. le_chant_des_sirenes - easiest\n",
    "        2. avenir - moderate\n",
    "        3. andalouse - hardest"
   ]
  },
  {
   "cell_type": "code",
   "execution_count": 198,
   "metadata": {
    "collapsed": false
   },
   "outputs": [],
   "source": [
    "# Repetition of lyrics/words is also in important factor that is easy to capture for this sample set atleast. \n",
    "# The idea is that more the repetition less difficult will be the song to understand and easier to get the hang off.\n",
    "def measure_of_sentence_repetiton(sentences):\n",
    "    \"\"\"\n",
    "    Calculate measure of repetition by computing the number of lines \n",
    "    repeating divided by total number sentences\n",
    "    \"\"\"\n",
    "    counter = Counter(sentences)\n",
    "    repeated_sentences = sum([True for sentence, count in counter.items() if count > 1])\n",
    "    return repeated_sentences / len(sentences)"
   ]
  },
  {
   "cell_type": "code",
   "execution_count": 199,
   "metadata": {
    "collapsed": false
   },
   "outputs": [],
   "source": [
    "lyrics['line_repetition'] = lyrics.processed_lyrics.apply(lambda x: measure_of_sentence_repetiton(x.split('\\n')))\n",
    "lyrics['word_repetition'] = lyrics.processed_lyrics.apply(lambda x: percentage_of_sentence_repetiton(x.split()))"
   ]
  },
  {
   "cell_type": "code",
   "execution_count": 200,
   "metadata": {
    "collapsed": false,
    "scrolled": true
   },
   "outputs": [
    {
     "data": {
      "text/plain": [
       "<matplotlib.axes._subplots.AxesSubplot at 0x7fd241d598d0>"
      ]
     },
     "execution_count": 200,
     "metadata": {},
     "output_type": "execute_result"
    },
    {
     "data": {
      "image/png": "[encoded data removed]",
      "text/plain": [
       "<matplotlib.figure.Figure at 0x7fd241d9ed30>"
      ]
     },
     "metadata": {},
     "output_type": "display_data"
    }
   ],
   "source": [
    "lyrics['average_repetition'] = (lyrics['line_repetition'] + lyrics['word_repetition']) / 2\n",
    "sns.barplot(x=lyrics.average_repetition,  y=lyrics.index)"
   ]
  },
  {
   "cell_type": "markdown",
   "metadata": {},
   "source": [
    "Based on measure of repetition the 1st spot has been swapped out by a small margin.\n",
    "\n",
    "    1. Avenir\n",
    "    2. Le Chant Des Sirenes\n",
    "    3. Andalouse\n",
    " "
   ]
  }
 ],
 "metadata": {
  "kernelspec": {
   "display_name": "Python 3",
   "language": "python",
   "name": "python3"
  },
  "language_info": {
   "codemirror_mode": {
    "name": "ipython",
    "version": 3
   },
   "file_extension": ".py",
   "mimetype": "text/x-python",
   "name": "python",
   "nbconvert_exporter": "python",
   "pygments_lexer": "ipython3",
   "version": "3.5.2"
  }
 },
 "nbformat": 4,
 "nbformat_minor": 2
}
